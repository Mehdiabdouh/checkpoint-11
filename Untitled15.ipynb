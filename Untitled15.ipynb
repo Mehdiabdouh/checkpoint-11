{
 "cells": [
  {
   "cell_type": "code",
   "execution_count": 13,
   "id": "22760820",
   "metadata": {},
   "outputs": [
    {
     "data": {
      "text/plain": [
       "dict_items([('A', -1), ('B', -1), ('C', -1), ('D', -1), ('X', -1), ('Y', -1), ('J', -2)])"
      ]
     },
     "execution_count": 13,
     "metadata": {},
     "output_type": "execute_result"
    }
   ],
   "source": [
    "import  collections\n",
    "from collections import Counter\n",
    "name_1=\"ABCDXYJJ\"\n",
    "name_2=\"DEFGHAIJ\"\n",
    "\n",
    "n1=Counter(list(name_1))\n",
    "n2=Counter(list(name_2))\n",
    "[x for x in n1.items() if x not in n2.items()]\n",
    "d={}\n",
    "for k in n1:\n",
    "    d[k]=d.get(k,0)-n1[k]\n",
    "d.items()\n"
   ]
  },
  {
   "cell_type": "code",
   "execution_count": null,
   "id": "be77a892",
   "metadata": {},
   "outputs": [],
   "source": []
  }
 ],
 "metadata": {
  "kernelspec": {
   "display_name": "Python 3",
   "language": "python",
   "name": "python3"
  },
  "language_info": {
   "codemirror_mode": {
    "name": "ipython",
    "version": 3
   },
   "file_extension": ".py",
   "mimetype": "text/x-python",
   "name": "python",
   "nbconvert_exporter": "python",
   "pygments_lexer": "ipython3",
   "version": "3.8.8"
  }
 },
 "nbformat": 4,
 "nbformat_minor": 5
}
